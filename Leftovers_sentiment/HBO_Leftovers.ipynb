{
 "cells": [
  {
   "cell_type": "code",
   "execution_count": 1,
   "metadata": {
    "collapsed": false
   },
   "outputs": [
    {
     "name": "stdout",
     "output_type": "stream",
     "text": [
      "{\n",
      "\n",
      "  \"created_at\": \"Mon Oct 05 00:41:19 +0000 2015\",\n",
      "\n",
      "  \"id\": 650833106275028992,\n",
      "\n",
      "  \"id_str\": \"650833106275028992\",\n",
      "\n",
      "  \"text\": \"Sooooo excited for Season 2 of #TheLeftovers after #OnceUponATime and then the Season 2 finale of #TheStrain after that! Great TV night!\",\n",
      "\n"
     ]
    }
   ],
   "source": [
    "# take a quick look at the data\n",
    "\n",
    "i = 0\n",
    "for line in open('#TheLeftovers_2015-10-04 20:41:10 -0400.json', 'r'):\n",
    "    print line\n",
    "    i+=1\n",
    "    if i == 5:\n",
    "        break"
   ]
  },
  {
   "cell_type": "code",
   "execution_count": 2,
   "metadata": {
    "collapsed": false
   },
   "outputs": [
    {
     "name": "stdout",
     "output_type": "stream",
     "text": [
      "Sooooo excited for Season 2 of #TheLeftovers after #OnceUponATime and then the Season 2 finale of #TheStrain after that! Great TV night!\n",
      "\n",
      "\n",
      "#TheLeftovers\n",
      "\n",
      "\n",
      "I could not be more excited for #TheLeftovers season 2 tonight!\n",
      "\n",
      "\n"
     ]
    }
   ],
   "source": [
    "tweets = []        # Initialize an empty list\n",
    "\n",
    "for line in open('#TheLeftovers_2015-10-04 20:41:10 -0400.json', 'r'):\n",
    "    \n",
    "    if line[:8] == '  \"text\"':   # Does the current line begin with this text?\n",
    "        \n",
    "        tweets.append(line[11:-3])    # If so, add the desired text to the list called tweets\n",
    "        \n",
    "for i in range(3):\n",
    "    print tweets[i]\n",
    "    print '\\n'"
   ]
  },
  {
   "cell_type": "code",
   "execution_count": 42,
   "metadata": {
    "collapsed": false
   },
   "outputs": [],
   "source": [
    "# we don't need every line, let's only select the data we're interested in\n",
    "\n",
    "tweets = []\n",
    "times = []\n",
    "retweets = []\n",
    "location = []\n",
    "language = []\n",
    "listed = []\n",
    "name = []\n",
    "following = []\n",
    "time_zone = []\n",
    "\n",
    "# identify the field, and save the appropriate record\n",
    "\n",
    "for line in open('#TheLeftovers_2015-10-04 20:41:10 -0400.json', 'r'):\n",
    "    if line[:8] == '  \"text\"':\n",
    "        tweets.append(line[11:-3])\n",
    "    elif line[:14] == '  \"created_at\"':\n",
    "        times.append(line[28:-14])\n",
    "    elif line[:29] == '  \"in_reply_to_screen_name\": ':\n",
    "        retweets.append(line[29:-2])\n",
    "    elif line[:15] == '    \"location\":':\n",
    "        location.append(line[16:-3])\n",
    "    elif line[:18] == '    \"screen_name\":':\n",
    "        name.append(line[19:-2])\n",
    "    elif line[:20] == '    \"listed_count\": ':\n",
    "        listed.append(int(line[20:-2]))\n",
    "    elif line[:12] == '    \"lang\": ':\n",
    "        language.append(line[12:-2])    \n",
    "    elif line[:16] == '    \"time_zone\":':\n",
    "        time_zone.append(line[17:-2])\n",
    "    elif line[:15] == '    \"following\"':\n",
    "        following.append(line[17:-2])\n",
    "        \n",
    "for line in open('#TheLeftovers_2015-10-04 22:03:25 -0400.json', 'r'):\n",
    "    if line[:8] == '  \"text\"':\n",
    "        tweets.append(line[11:-3])\n",
    "    elif line[:14] == '  \"created_at\"':\n",
    "        times.append(line[28:-14])\n",
    "    elif line[:29] == '  \"in_reply_to_screen_name\": ':\n",
    "        retweets.append(line[29:-2])\n",
    "    elif line[:15] == '    \"location\":':\n",
    "        location.append(line[16:-3])\n",
    "    elif line[:18] == '    \"screen_name\":':\n",
    "        name.append(line[19:-2])\n",
    "    elif line[:20] == '    \"listed_count\": ':\n",
    "        listed.append(int(line[20:-2]))\n",
    "    elif line[:12] == '    \"lang\": ':\n",
    "        language.append(line[12:-2])    \n",
    "    elif line[:16] == '    \"time_zone\":':\n",
    "        time_zone.append(line[17:-2])\n",
    "    elif line[:15] == '    \"following\"':\n",
    "        following.append(line[17:-2])"
   ]
  },
  {
   "cell_type": "code",
   "execution_count": 43,
   "metadata": {
    "collapsed": false
   },
   "outputs": [
    {
     "name": "stdout",
     "output_type": "stream",
     "text": [
      "4712\n",
      "4712\n",
      "4712\n",
      "4712\n",
      "4712\n",
      "4712\n",
      "4712\n",
      "4712\n",
      "6199\n"
     ]
    }
   ],
   "source": [
    "# check data length\n",
    "\n",
    "print len(name)\n",
    "print len(time_zone)\n",
    "print len(following)\n",
    "print len(location)\n",
    "print len(tweets)\n",
    "print len(times)\n",
    "print len(retweets)\n",
    "print len(listed)\n",
    "print len(language)  \n",
    "\n",
    "# Language requires cleaning, not usable in aggregation. All other categories look clean"
   ]
  },
  {
   "cell_type": "code",
   "execution_count": 37,
   "metadata": {
    "collapsed": false
   },
   "outputs": [
    {
     "data": {
      "text/html": [
       "<div style=\"max-height:1000px;max-width:1500px;overflow:auto;\">\n",
       "<table border=\"1\" class=\"dataframe\">\n",
       "  <thead>\n",
       "    <tr style=\"text-align: right;\">\n",
       "      <th></th>\n",
       "      <th>Name</th>\n",
       "      <th>Retweets</th>\n",
       "    </tr>\n",
       "  </thead>\n",
       "  <tbody>\n",
       "    <tr>\n",
       "      <th>14</th>\n",
       "      <td>              null</td>\n",
       "      <td> 4539</td>\n",
       "    </tr>\n",
       "    <tr>\n",
       "      <th>73</th>\n",
       "      <td> \"TheLeftoversHBO\"</td>\n",
       "      <td>   31</td>\n",
       "    </tr>\n",
       "    <tr>\n",
       "      <th>29</th>\n",
       "      <td>      \"kenseysmom\"</td>\n",
       "      <td>   18</td>\n",
       "    </tr>\n",
       "    <tr>\n",
       "      <th>22</th>\n",
       "      <td>   \"Jazz_minBrown\"</td>\n",
       "      <td>   14</td>\n",
       "    </tr>\n",
       "    <tr>\n",
       "      <th>81</th>\n",
       "      <td>        \"slut_kin\"</td>\n",
       "      <td>    5</td>\n",
       "    </tr>\n",
       "  </tbody>\n",
       "</table>\n",
       "</div>"
      ],
      "text/plain": [
       "                 Name  Retweets\n",
       "14               null      4539\n",
       "73  \"TheLeftoversHBO\"        31\n",
       "29       \"kenseysmom\"        18\n",
       "22    \"Jazz_minBrown\"        14\n",
       "81         \"slut_kin\"         5"
      ]
     },
     "execution_count": 37,
     "metadata": {},
     "output_type": "execute_result"
    }
   ],
   "source": [
    "# Did certain accounts get more retweets than others?\n",
    "\n",
    "import pandas as pd\n",
    "from collections import Counter\n",
    "pd.DataFrame({'Name': Counter(retweets).keys(), 'Retweets': Counter(retweets).values()}).sort(['Retweets'],ascending = False).head()"
   ]
  },
  {
   "cell_type": "code",
   "execution_count": 38,
   "metadata": {
    "collapsed": false
   },
   "outputs": [
    {
     "data": {
      "text/html": [
       "<div style=\"max-height:1000px;max-width:1500px;overflow:auto;\">\n",
       "<table border=\"1\" class=\"dataframe\">\n",
       "  <thead>\n",
       "    <tr style=\"text-align: right;\">\n",
       "      <th></th>\n",
       "      <th>Count</th>\n",
       "      <th>Time Zone</th>\n",
       "    </tr>\n",
       "  </thead>\n",
       "  <tbody>\n",
       "    <tr>\n",
       "      <th>49</th>\n",
       "      <td> 1040</td>\n",
       "      <td>  \"Eastern Time (US &amp; Canada)\"</td>\n",
       "    </tr>\n",
       "    <tr>\n",
       "      <th>15</th>\n",
       "      <td> 1029</td>\n",
       "      <td>                          null</td>\n",
       "    </tr>\n",
       "    <tr>\n",
       "      <th>62</th>\n",
       "      <td>  716</td>\n",
       "      <td>  \"Central Time (US &amp; Canada)\"</td>\n",
       "    </tr>\n",
       "    <tr>\n",
       "      <th>12</th>\n",
       "      <td>  503</td>\n",
       "      <td>  \"Pacific Time (US &amp; Canada)\"</td>\n",
       "    </tr>\n",
       "    <tr>\n",
       "      <th>11</th>\n",
       "      <td>  487</td>\n",
       "      <td>                    \"Brasilia\"</td>\n",
       "    </tr>\n",
       "    <tr>\n",
       "      <th>9 </th>\n",
       "      <td>  198</td>\n",
       "      <td>                       \"Quito\"</td>\n",
       "    </tr>\n",
       "    <tr>\n",
       "      <th>16</th>\n",
       "      <td>  138</td>\n",
       "      <td>                    \"Santiago\"</td>\n",
       "    </tr>\n",
       "    <tr>\n",
       "      <th>25</th>\n",
       "      <td>  129</td>\n",
       "      <td>      \"Atlantic Time (Canada)\"</td>\n",
       "    </tr>\n",
       "    <tr>\n",
       "      <th>38</th>\n",
       "      <td>   66</td>\n",
       "      <td>                   \"Greenland\"</td>\n",
       "    </tr>\n",
       "    <tr>\n",
       "      <th>1 </th>\n",
       "      <td>   56</td>\n",
       "      <td> \"Mountain Time (US &amp; Canada)\"</td>\n",
       "    </tr>\n",
       "  </tbody>\n",
       "</table>\n",
       "</div>"
      ],
      "text/plain": [
       "    Count                      Time Zone\n",
       "49   1040   \"Eastern Time (US & Canada)\"\n",
       "15   1029                           null\n",
       "62    716   \"Central Time (US & Canada)\"\n",
       "12    503   \"Pacific Time (US & Canada)\"\n",
       "11    487                     \"Brasilia\"\n",
       "9     198                        \"Quito\"\n",
       "16    138                     \"Santiago\"\n",
       "25    129       \"Atlantic Time (Canada)\"\n",
       "38     66                    \"Greenland\"\n",
       "1      56  \"Mountain Time (US & Canada)\""
      ]
     },
     "execution_count": 38,
     "metadata": {},
     "output_type": "execute_result"
    }
   ],
   "source": [
    "# What parts of the globe were live tweeting the season premiere?\n",
    "\n",
    "from collections import Counter\n",
    "df = pd.DataFrame({'Time Zone': Counter(time_zone).keys(),'Count': Counter(time_zone).values()})\n",
    "df.sort(['Count'],ascending = False)[:10]"
   ]
  },
  {
   "cell_type": "code",
   "execution_count": 44,
   "metadata": {
    "collapsed": false
   },
   "outputs": [
    {
     "data": {
      "text/html": [
       "<div style=\"max-height:1000px;max-width:1500px;overflow:auto;\">\n",
       "<table border=\"1\" class=\"dataframe\">\n",
       "  <thead>\n",
       "    <tr style=\"text-align: right;\">\n",
       "      <th></th>\n",
       "      <th>Count</th>\n",
       "      <th>Language</th>\n",
       "    </tr>\n",
       "  </thead>\n",
       "  <tbody>\n",
       "    <tr>\n",
       "      <th>6 </th>\n",
       "      <td> 3790</td>\n",
       "      <td>    \"en\"</td>\n",
       "    </tr>\n",
       "    <tr>\n",
       "      <th>8 </th>\n",
       "      <td> 1220</td>\n",
       "      <td>     \"en</td>\n",
       "    </tr>\n",
       "    <tr>\n",
       "      <th>1 </th>\n",
       "      <td>  554</td>\n",
       "      <td>    \"pt\"</td>\n",
       "    </tr>\n",
       "    <tr>\n",
       "      <th>2 </th>\n",
       "      <td>  295</td>\n",
       "      <td>    \"es\"</td>\n",
       "    </tr>\n",
       "    <tr>\n",
       "      <th>12</th>\n",
       "      <td>  153</td>\n",
       "      <td>     \"pt</td>\n",
       "    </tr>\n",
       "    <tr>\n",
       "      <th>13</th>\n",
       "      <td>   90</td>\n",
       "      <td>     \"es</td>\n",
       "    </tr>\n",
       "    <tr>\n",
       "      <th>22</th>\n",
       "      <td>   20</td>\n",
       "      <td>    \"fr\"</td>\n",
       "    </tr>\n",
       "    <tr>\n",
       "      <th>20</th>\n",
       "      <td>   13</td>\n",
       "      <td> \"en-gb\"</td>\n",
       "    </tr>\n",
       "    <tr>\n",
       "      <th>19</th>\n",
       "      <td>   11</td>\n",
       "      <td>    \"und</td>\n",
       "    </tr>\n",
       "    <tr>\n",
       "      <th>11</th>\n",
       "      <td>    7</td>\n",
       "      <td>    \"it\"</td>\n",
       "    </tr>\n",
       "  </tbody>\n",
       "</table>\n",
       "</div>"
      ],
      "text/plain": [
       "    Count Language\n",
       "6    3790     \"en\"\n",
       "8    1220      \"en\n",
       "1     554     \"pt\"\n",
       "2     295     \"es\"\n",
       "12    153      \"pt\n",
       "13     90      \"es\n",
       "22     20     \"fr\"\n",
       "20     13  \"en-gb\"\n",
       "19     11     \"und\n",
       "11      7     \"it\""
      ]
     },
     "execution_count": 44,
     "metadata": {},
     "output_type": "execute_result"
    }
   ],
   "source": [
    "# What languages were tweets written in?\n",
    "\n",
    "pd.DataFrame({'Language': Counter(language).keys(), 'Count': Counter(language).values()}).sort(['Count'],ascending = False)[:10]"
   ]
  },
  {
   "cell_type": "code",
   "execution_count": 8,
   "metadata": {
    "collapsed": false
   },
   "outputs": [
    {
     "data": {
      "text/plain": [
       "['Sooooo',\n",
       " 'excited',\n",
       " 'for',\n",
       " 'Season',\n",
       " '2',\n",
       " 'of',\n",
       " 'TheLeftovers',\n",
       " 'after',\n",
       " 'OnceUponATime',\n",
       " 'and',\n",
       " 'then',\n",
       " 'the',\n",
       " 'Season',\n",
       " '2',\n",
       " 'finale',\n",
       " 'of',\n",
       " 'TheStrain',\n",
       " 'after',\n",
       " 'that',\n",
       " 'Great',\n",
       " 'TV',\n",
       " 'night']"
      ]
     },
     "execution_count": 8,
     "metadata": {},
     "output_type": "execute_result"
    }
   ],
   "source": [
    "# Let's take a slightly closer look at the words in each tweet.\n",
    "#     -> First we must split each tweet apart into a vector of words\n",
    "\n",
    "from nltk.tokenize import RegexpTokenizer\n",
    "tokenizer = RegexpTokenizer(r'\\w+')\n",
    "    \n",
    "tokenized = [tokenizer.tokenize(doc) for doc in tweets]\n",
    "\n",
    "tokenized[0]"
   ]
  },
  {
   "cell_type": "code",
   "execution_count": 9,
   "metadata": {
    "collapsed": false
   },
   "outputs": [
    {
     "data": {
      "text/html": [
       "<div style=\"max-height:1000px;max-width:1500px;overflow:auto;\">\n",
       "<table border=\"1\" class=\"dataframe\">\n",
       "  <thead>\n",
       "    <tr style=\"text-align: right;\">\n",
       "      <th></th>\n",
       "      <th>Listed Count</th>\n",
       "      <th>Location</th>\n",
       "      <th>Name</th>\n",
       "      <th>Retweet at</th>\n",
       "      <th>Time</th>\n",
       "      <th>Time Zone</th>\n",
       "      <th>Tweet</th>\n",
       "    </tr>\n",
       "  </thead>\n",
       "  <tbody>\n",
       "    <tr>\n",
       "      <th>0</th>\n",
       "      <td>  65</td>\n",
       "      <td>  \"New York State, USA</td>\n",
       "      <td>       \"Fan4me\"</td>\n",
       "      <td> null</td>\n",
       "      <td> 00:41:19</td>\n",
       "      <td> \"Eastern Time (US &amp; Canada)\"</td>\n",
       "      <td> [Sooooo, excited, for, Season, 2, of, TheLefto...</td>\n",
       "    </tr>\n",
       "    <tr>\n",
       "      <th>1</th>\n",
       "      <td>   2</td>\n",
       "      <td> \"Tallahassee, Florida</td>\n",
       "      <td>    \"howie1027\"</td>\n",
       "      <td> null</td>\n",
       "      <td> 00:41:19</td>\n",
       "      <td> \"Eastern Time (US &amp; Canada)\"</td>\n",
       "      <td>                                    [TheLeftovers]</td>\n",
       "    </tr>\n",
       "    <tr>\n",
       "      <th>2</th>\n",
       "      <td> 155</td>\n",
       "      <td>          \"Los Angeles</td>\n",
       "      <td>     \"WriterLe\"</td>\n",
       "      <td> null</td>\n",
       "      <td> 00:41:33</td>\n",
       "      <td> \"Pacific Time (US &amp; Canada)\"</td>\n",
       "      <td> [I, could, not, be, more, excited, for, TheLef...</td>\n",
       "    </tr>\n",
       "    <tr>\n",
       "      <th>3</th>\n",
       "      <td> 130</td>\n",
       "      <td>        \"Baltimore, MD</td>\n",
       "      <td> \"BrandonAmbro\"</td>\n",
       "      <td> null</td>\n",
       "      <td> 00:41:36</td>\n",
       "      <td> \"Eastern Time (US &amp; Canada)\"</td>\n",
       "      <td> [1, Advice, for, those, tuning, in, to, the, s...</td>\n",
       "    </tr>\n",
       "    <tr>\n",
       "      <th>4</th>\n",
       "      <td>   6</td>\n",
       "      <td>                   \"UK</td>\n",
       "      <td>  \"RyanLang999\"</td>\n",
       "      <td> null</td>\n",
       "      <td> 00:42:13</td>\n",
       "      <td>                     \"London\"</td>\n",
       "      <td>                          [20, mins, TheLeftovers]</td>\n",
       "    </tr>\n",
       "  </tbody>\n",
       "</table>\n",
       "</div>"
      ],
      "text/plain": [
       "   Listed Count               Location            Name Retweet at      Time  \\\n",
       "0            65   \"New York State, USA        \"Fan4me\"       null  00:41:19   \n",
       "1             2  \"Tallahassee, Florida     \"howie1027\"       null  00:41:19   \n",
       "2           155           \"Los Angeles      \"WriterLe\"       null  00:41:33   \n",
       "3           130         \"Baltimore, MD  \"BrandonAmbro\"       null  00:41:36   \n",
       "4             6                    \"UK   \"RyanLang999\"       null  00:42:13   \n",
       "\n",
       "                      Time Zone  \\\n",
       "0  \"Eastern Time (US & Canada)\"   \n",
       "1  \"Eastern Time (US & Canada)\"   \n",
       "2  \"Pacific Time (US & Canada)\"   \n",
       "3  \"Eastern Time (US & Canada)\"   \n",
       "4                      \"London\"   \n",
       "\n",
       "                                               Tweet  \n",
       "0  [Sooooo, excited, for, Season, 2, of, TheLefto...  \n",
       "1                                     [TheLeftovers]  \n",
       "2  [I, could, not, be, more, excited, for, TheLef...  \n",
       "3  [1, Advice, for, those, tuning, in, to, the, s...  \n",
       "4                           [20, mins, TheLeftovers]  "
      ]
     },
     "execution_count": 9,
     "metadata": {},
     "output_type": "execute_result"
    }
   ],
   "source": [
    "# Create a dataframe\n",
    "\n",
    "leftovers = pd.DataFrame({'Name': name,\n",
    "                         'Time Zone': time_zone,\n",
    "                         'Location': location,\n",
    "                         'Tweet': tokenized,\n",
    "                         'Time': times,\n",
    "                         'Listed Count': listed,\n",
    "                         'Retweet at': retweets,\n",
    "                         })\n",
    "leftovers.to_csv('leftovers.csv',sep=',')\n",
    "leftovers.head()"
   ]
  },
  {
   "cell_type": "code",
   "execution_count": 10,
   "metadata": {
    "collapsed": false,
    "scrolled": true
   },
   "outputs": [
    {
     "name": "stdout",
     "output_type": "stream",
     "text": [
      "discordant\n",
      "shock\n",
      "disquietingly\n",
      "adamant\n",
      "repulsiveness\n"
     ]
    }
   ],
   "source": [
    "# Import dictionary of negative words\n",
    "\n",
    "import random\n",
    "\n",
    "neg = [line[:-1] for line in open('negative-words.txt', 'r')]\n",
    "\n",
    "for i in range(5):\n",
    "    print random.choice(neg)"
   ]
  },
  {
   "cell_type": "code",
   "execution_count": 11,
   "metadata": {
    "collapsed": false
   },
   "outputs": [
    {
     "name": "stdout",
     "output_type": "stream",
     "text": [
      "restructured\n",
      "hearten\n",
      "rockstars\n",
      "reputation\n",
      "succeeds\n"
     ]
    }
   ],
   "source": [
    "# Import dictionary of positive words\n",
    "\n",
    "import random\n",
    "pos = [line[:-1] for line in open('positive-words.txt', 'r')]\n",
    "for i in range(5):\n",
    "    print random.choice(pos)"
   ]
  },
  {
   "cell_type": "code",
   "execution_count": 13,
   "metadata": {
    "collapsed": false
   },
   "outputs": [],
   "source": [
    "# Iterate through each word of each tweet vector;\n",
    "#     -> if the word is positive or negative, add it to the respective count for that tweet\n",
    "\n",
    "p = []\n",
    "n = []\n",
    "for i in tokenized:\n",
    "    pcount = 0.0\n",
    "    ncount = 0.0\n",
    "    for k in i:\n",
    "        if k in pos:\n",
    "            pcount += 1.0\n",
    "        if k in neg:\n",
    "            ncount += 1.0\n",
    "    p.append(pcount)\n",
    "    n.append(ncount)"
   ]
  },
  {
   "cell_type": "code",
   "execution_count": 15,
   "metadata": {
    "collapsed": false
   },
   "outputs": [
    {
     "name": "stdout",
     "output_type": "stream",
     "text": [
      "4712\n",
      "4712\n"
     ]
    }
   ],
   "source": [
    "# Check that we properly iterated through each tweet\n",
    "\n",
    "print len(n)\n",
    "print len(p)"
   ]
  },
  {
   "cell_type": "code",
   "execution_count": 16,
   "metadata": {
    "collapsed": false
   },
   "outputs": [],
   "source": [
    "# Convert the time of each tweet to a format Python can conveniently graph\n",
    "\n",
    "import matplotlib.pyplot as plt\n",
    "import datetime\n",
    "import time\n",
    "\n",
    "dates = [datetime.datetime.strptime(t, \"%H:%M:%S\") for t in times]"
   ]
  },
  {
   "cell_type": "code",
   "execution_count": 17,
   "metadata": {
    "collapsed": false
   },
   "outputs": [
    {
     "data": {
      "image/png": "[encoded data removed]",
      "text/plain": [
       "<matplotlib.figure.Figure at 0x10aee24d0>"
      ]
     },
     "metadata": {},
     "output_type": "display_data"
    }
   ],
   "source": [
    "# Positive word counts over time. The show starts at the timestamp 01:00:00 and ends at 02:00:00\n",
    "\n",
    "%matplotlib inline\n",
    "plt.plot(dates,p);\n",
    "\n",
    "plt.gcf().autofmt_xdate()"
   ]
  },
  {
   "cell_type": "code",
   "execution_count": 18,
   "metadata": {
    "collapsed": false,
    "scrolled": true
   },
   "outputs": [
    {
     "data": {
      "image/png": "[encoded data removed]",
      "text/plain": [
       "<matplotlib.figure.Figure at 0x10b931b90>"
      ]
     },
     "metadata": {},
     "output_type": "display_data"
    }
   ],
   "source": [
    "# Negative word counts over time. This is not aesthetically pleasing, nor does it produce much insight.\n",
    "#     -> We need a better way to look at and use this data\n",
    "\n",
    "plt.plot(dates,n)\n",
    "plt.gcf().autofmt_xdate()"
   ]
  },
  {
   "cell_type": "code",
   "execution_count": 20,
   "metadata": {
    "collapsed": true
   },
   "outputs": [],
   "source": [
    "# There are too many tweets each minute, we need to aggregate the data further\n",
    "\n",
    "t = []\n",
    "dates2 = []  # Initialize empty lists\n",
    "\n",
    "for i in range(len(dates)):    # Iterate through the timestamps\n",
    "    \n",
    "    if (str(dates[i].hour) + ':' + str(dates[i].minute)) not in dates2: # Have we seen it?\n",
    "                \n",
    "        dates2.append(str(dates[i].hour) + ':' + str(dates[i].minute))\n",
    "        t.append(p[i] - n[i])   # If not, record the hour and minute, and calculate sentiment\n",
    "    else:\n",
    "        t[-1] += (p[i] - n[i])  # If yes, add the sentiment of the tweet to the current minute"
   ]
  },
  {
   "cell_type": "code",
   "execution_count": 21,
   "metadata": {
    "collapsed": false
   },
   "outputs": [],
   "source": [
    "# Aggregate data into one minute buckets\n",
    "\n",
    "t = []         # sentiment count: positive words minus negative words\n",
    "dates2 = []    # the timestamp, in one minute increments\n",
    "li = []        # the listed count, by minute\n",
    "num = []       # the number of tweets, by minute\n",
    "words = []     # every word used, by minute\n",
    "\n",
    "for i in range(len(dates)):\n",
    "    if (str(dates[i].hour) + ':' + str(dates[i].minute)) not in dates2:\n",
    "        dates2.append(str(dates[i].hour) + ':' + str(dates[i].minute))\n",
    "        li.append(listed[i])\n",
    "        t.append(p[i] - n[i])\n",
    "        num.append(1)\n",
    "        words.append(tokenized[i])\n",
    "    else:\n",
    "        t[-1] += (p[i] - n[i])\n",
    "        li[-1] += listed[i]\n",
    "        num[-1] += 1\n",
    "        words[-1] = words[-1] + tokenized[i]"
   ]
  },
  {
   "cell_type": "code",
   "execution_count": 22,
   "metadata": {
    "collapsed": false
   },
   "outputs": [],
   "source": [
    "stops = ['i', 'me', 'my', 'myself', 'we', 'our', 'ours', 'ourselves', 'you', 'your', 'yours',\n",
    "'yourself', 'yourselves', 'he', 'him', 'his', 'himself', 'she', 'her', 'hers',\n",
    "'herself', 'it', 'its', 'itself', 'they', 'them', 'their', 'theirs', 'themselves',\n",
    "'what', 'which', 'who', 'whom', 'this', 'that', 'these', 'those', 'am', 'is', 'are',\n",
    "'was', 'were', 'be', 'been', 'being', 'have', 'has', 'had', 'having', 'do', 'does',\n",
    "'did', 'doing', 'a', 'an', 'the', 'and', 'but', 'if', 'or', 'because', 'as', 'until',\n",
    "'while', 'of', 'at', 'by', 'for', 'with', 'about', 'against', 'between', 'into',\n",
    "'through', 'during', 'before', 'after', 'above', 'below', 'to', 'from', 'up', 'down',\n",
    "'in', 'out', 'on', 'off', 'over', 'under', 'again', 'further', 'then', 'once', 'here',\n",
    "'there', 'when', 'where', 'why', 'how', 'all', 'any', 'both', 'each', 'few', 'more',\n",
    "'most', 'other', 'some', 'such', 'no', 'nor', 'not', 'only', 'own', 'same', 'so',\n",
    "'than', 'too', 'very', 's', 't', 'can', 'will', 'just', 'don', 'should', 'now']"
   ]
  },
  {
   "cell_type": "code",
   "execution_count": 23,
   "metadata": {
    "collapsed": false
   },
   "outputs": [
    {
     "data": {
      "text/plain": [
       "Counter({'2': 4, 'season': 4, 'theleftovers': 4, 'excited': 2, 'ten': 1, 'premier': 1, 'confused': 1, 'tonight': 1, 'theleftovershbo': 1, 'tuning': 1, 'tv': 1, '1': 1, 'thestrain': 1, 'onceuponatime': 1, 'advice': 1, 'finale': 1, 'sooooo': 1, 'great': 1, 'i': 1, 'could': 1, 'night': 1, 'minutes': 1, 'first': 1})"
      ]
     },
     "execution_count": 23,
     "metadata": {},
     "output_type": "execute_result"
    }
   ],
   "source": [
    "# Remove stop words to get a better superficial look at the words in these tweets\n",
    "\n",
    "final_words = []\n",
    "for i in words:\n",
    "    final_words.append([w.lower() for w in i if w not in stops])\n",
    "Counter(final_words[0])"
   ]
  },
  {
   "cell_type": "code",
   "execution_count": 24,
   "metadata": {
    "collapsed": false
   },
   "outputs": [
    {
     "data": {
      "text/html": [
       "<div style=\"max-height:1000px;max-width:1500px;overflow:auto;\">\n",
       "<table border=\"1\" class=\"dataframe\">\n",
       "  <thead>\n",
       "    <tr style=\"text-align: right;\">\n",
       "      <th></th>\n",
       "      <th>Listed Count</th>\n",
       "      <th>Sentiment</th>\n",
       "      <th>Time</th>\n",
       "      <th>Tweet Count</th>\n",
       "      <th>Words</th>\n",
       "    </tr>\n",
       "  </thead>\n",
       "  <tbody>\n",
       "    <tr>\n",
       "      <th>0</th>\n",
       "      <td> 352</td>\n",
       "      <td> 2</td>\n",
       "      <td> 0:41</td>\n",
       "      <td>  4</td>\n",
       "      <td> [sooooo, excited, season, 2, theleftovers, onc...</td>\n",
       "    </tr>\n",
       "    <tr>\n",
       "      <th>1</th>\n",
       "      <td> 176</td>\n",
       "      <td> 4</td>\n",
       "      <td> 0:42</td>\n",
       "      <td>  6</td>\n",
       "      <td> [20, mins, theleftovers, theleftovers, season,...</td>\n",
       "    </tr>\n",
       "    <tr>\n",
       "      <th>2</th>\n",
       "      <td>  85</td>\n",
       "      <td> 0</td>\n",
       "      <td> 0:43</td>\n",
       "      <td>  1</td>\n",
       "      <td> [i, hope, opening, scene, justin, jogging, gre...</td>\n",
       "    </tr>\n",
       "    <tr>\n",
       "      <th>3</th>\n",
       "      <td> 801</td>\n",
       "      <td> 6</td>\n",
       "      <td> 0:44</td>\n",
       "      <td> 11</td>\n",
       "      <td> [we, made, remember, theleftovers, 18, minutes...</td>\n",
       "    </tr>\n",
       "    <tr>\n",
       "      <th>4</th>\n",
       "      <td> 481</td>\n",
       "      <td>-1</td>\n",
       "      <td> 0:45</td>\n",
       "      <td> 10</td>\n",
       "      <td> [in, 15, minutes, meet, erika, murphy, n, regi...</td>\n",
       "    </tr>\n",
       "  </tbody>\n",
       "</table>\n",
       "</div>"
      ],
      "text/plain": [
       "   Listed Count  Sentiment  Time  Tweet Count  \\\n",
       "0           352          2  0:41            4   \n",
       "1           176          4  0:42            6   \n",
       "2            85          0  0:43            1   \n",
       "3           801          6  0:44           11   \n",
       "4           481         -1  0:45           10   \n",
       "\n",
       "                                               Words  \n",
       "0  [sooooo, excited, season, 2, theleftovers, onc...  \n",
       "1  [20, mins, theleftovers, theleftovers, season,...  \n",
       "2  [i, hope, opening, scene, justin, jogging, gre...  \n",
       "3  [we, made, remember, theleftovers, 18, minutes...  \n",
       "4  [in, 15, minutes, meet, erika, murphy, n, regi...  "
      ]
     },
     "execution_count": 24,
     "metadata": {},
     "output_type": "execute_result"
    }
   ],
   "source": [
    "leftovers2 = pd.DataFrame({'Time': dates2,\n",
    "                         'Tweet Count': num,\n",
    "                         'Sentiment': t,\n",
    "                         'Words': final_words,\n",
    "                         'Listed Count': li,\n",
    "                         })\n",
    "leftovers2.to_csv('leftovers_by_minute.csv',sep=',')\n",
    "leftovers2.head()"
   ]
  },
  {
   "cell_type": "code",
   "execution_count": 25,
   "metadata": {
    "collapsed": false
   },
   "outputs": [
    {
     "data": {
      "text/plain": [
       "['1:1', '1:2', '1:3', '1:4', '1:5']"
      ]
     },
     "execution_count": 25,
     "metadata": {},
     "output_type": "execute_result"
    }
   ],
   "source": [
    "dates2[20:25]"
   ]
  },
  {
   "cell_type": "code",
   "execution_count": 26,
   "metadata": {
    "collapsed": false
   },
   "outputs": [
    {
     "name": "stdout",
     "output_type": "stream",
     "text": [
      "      Count              Word\n",
      "927     562      theleftovers\n",
      "115     172                rt\n",
      "1301    148                co\n",
      "1344    140                 i\n",
      "1335    118              http\n",
      "986      57   theleftovershbo\n",
      "548      56            season\n",
      "249      51                 n\n",
      "1213     48               que\n",
      "420      42                 �\n",
      "418      37               hbo\n",
      "1292     37           opening\n",
      "541      35          tomorrow\n",
      "325      31                 o\n",
      "546      29                 2\n",
      "173      28           episode\n",
      "174      28                 m\n",
      "431      28             https\n",
      "356      27  welcometomiracle\n",
      "189      27                de\n",
      "1239     25           tonight\n",
      "649      25             damon\n",
      "367      25          abertura\n",
      "1286     25          lindelof\n",
      "652      24              week\n"
     ]
    }
   ],
   "source": [
    "# Define a function to return the words used within a given timeframe\n",
    "\n",
    "def word_count(time1, time2):\n",
    "    index1 = dates2.index(time1)\n",
    "    index2 = dates2.index(time2)\n",
    "    wrds = final_words[index1:(index2+1)]\n",
    "    final = wrds[0]\n",
    "    for i in range(1,len(wrds)):\n",
    "        final = final + wrds[i]\n",
    "    df = pd.DataFrame({'Word': Counter(final).keys(),\n",
    "                       'Count': Counter(final).values()})\n",
    "    print df.sort(['Count'],ascending = False)[:25]\n",
    "    \n",
    "    \n",
    "    \n",
    "# What words were being used immediately after the show ended?\n",
    "\n",
    "word_count('2:0','2:10')"
   ]
  },
  {
   "cell_type": "code",
   "execution_count": 27,
   "metadata": {
    "collapsed": false
   },
   "outputs": [
    {
     "data": {
      "image/png": "[encoded data removed]",
      "text/plain": [
       "<matplotlib.figure.Figure at 0x10b931c10>"
      ]
     },
     "metadata": {},
     "output_type": "display_data"
    }
   ],
   "source": [
    "# Final Visualizations:\n",
    "\n",
    "\n",
    "# 1. Sentiment Count by minute:\n",
    "#         The dotted red lines indicate the start and end of the show.\n",
    "\n",
    "#for i in range(len(t)):\n",
    "%matplotlib inline\n",
    "plt.plot([datetime.datetime.strptime(y, \"%H:%M\") for y in dates2],t);\n",
    "plt.axvline(datetime.datetime.strptime('1:00', \"%H:%M\"), color='r', linestyle='--')\n",
    "plt.axvline(datetime.datetime.strptime('2:00', \"%H:%M\"), color='r', linestyle='--')\n",
    "plt.axhline(0, color='g', linestyle='--')\n",
    "plt.ylabel('Sentiment count')\n",
    "plt.xlabel('Time')\n",
    "\n",
    "plt.gcf().autofmt_xdate()"
   ]
  },
  {
   "cell_type": "code",
   "execution_count": 28,
   "metadata": {
    "collapsed": false
   },
   "outputs": [
    {
     "data": {
      "image/png": "[encoded data removed]",
      "text/plain": [
       "<matplotlib.figure.Figure at 0x10ca41090>"
      ]
     },
     "metadata": {},
     "output_type": "display_data"
    }
   ],
   "source": [
    "\n",
    "# 2. Total listed count: \n",
    "\n",
    "#        -> How large of a network was being reached by the people live tweeting?\n",
    "#        -> Were there specific moments of the show that resulted in larger spikes?\n",
    "\n",
    "plt.plot([datetime.datetime.strptime(y, \"%H:%M\") for y in dates2],li);\n",
    "plt.axvline(datetime.datetime.strptime('1:00', \"%H:%M\"), color='r', linestyle='--')\n",
    "plt.axvline(datetime.datetime.strptime('2:00', \"%H:%M\"), color='r', linestyle='--')\n",
    "plt.axhline(0, color='g', linestyle='--')\n",
    "plt.ylabel('Total Listed')\n",
    "plt.xlabel('Time')\n",
    "\n",
    "plt.gcf().autofmt_xdate()"
   ]
  },
  {
   "cell_type": "code",
   "execution_count": 29,
   "metadata": {
    "collapsed": false
   },
   "outputs": [
    {
     "data": {
      "image/png": "[encoded data removed]",
      "text/plain": [
       "<matplotlib.figure.Figure at 0x10cabfc90>"
      ]
     },
     "metadata": {},
     "output_type": "display_data"
    }
   ],
   "source": [
    "# 3. Total tweets over time\n",
    "\n",
    "plt.plot([datetime.datetime.strptime(y, \"%H:%M\") for y in dates2],num);\n",
    "plt.axvline(datetime.datetime.strptime('1:00', \"%H:%M\"), color='r', linestyle='--')\n",
    "plt.axvline(datetime.datetime.strptime('2:00', \"%H:%M\"), color='r', linestyle='--')\n",
    "plt.axhline(0, color='g', linestyle='--')\n",
    "plt.ylabel('Tweets')\n",
    "plt.xlabel('Time')\n",
    "\n",
    "\n",
    "plt.gcf().autofmt_xdate()"
   ]
  }
 ],
 "metadata": {
  "kernelspec": {
   "display_name": "Python 2",
   "language": "python",
   "name": "python2"
  },
  "language_info": {
   "codemirror_mode": {
    "name": "ipython",
    "version": 2
   },
   "file_extension": ".py",
   "mimetype": "text/x-python",
   "name": "python",
   "nbconvert_exporter": "python",
   "pygments_lexer": "ipython2",
   "version": "2.7.10"
  }
 },
 "nbformat": 4,
 "nbformat_minor": 0
}
